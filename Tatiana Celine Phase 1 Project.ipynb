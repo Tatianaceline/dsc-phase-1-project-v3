{
 "cells": [
  {
   "cell_type": "markdown",
   "metadata": {},
   "source": [
    "## Final Project Submission\n",
    "\n",
    "Please fill out:\n",
    "* Student name: \n",
    "* Student pace: self paced / part time / full time\n",
    "* Scheduled project review date/time: \n",
    "* Instructor name: \n",
    "* Blog post URL:\n"
   ]
  },
  {
   "cell_type": "markdown",
   "metadata": {},
   "source": [
    "# Aviation Accidents Data Cleaning\n",
    "\n",
    "This notebook details the process of cleaning up a dataset containing information about aviation accidents. The steps include loading the data, handling missing values, correcting data types, removing duplicates, and other necessary cleaning operations.\n"
   ]
  },
  {
   "cell_type": "markdown",
   "metadata": {},
   "source": [
    "## 1. Importing Libraries\n",
    "\n",
    "We begin by importing the necessary libraries. `pandas` is used for data manipulation and analysis, while `numpy` is used for numerical operations.\n"
   ]
  },
  {
   "cell_type": "code",
   "execution_count": 508,
   "metadata": {},
   "outputs": [],
   "source": [
    "# Importing necessary libraries\n",
    "\n",
    "import pandas as pd\n",
    "import numpy as np"
   ]
  },
  {
   "cell_type": "markdown",
   "metadata": {},
   "source": [
    "## 2. Loading the Data\n",
    "\n",
    "We load the aviation accidents dataset using `pandas.read_csv` from the specified file path. After loading the data, we display the first few rows to get an initial overview of the dataset.\n"
   ]
  },
  {
   "cell_type": "code",
   "execution_count": 509,
   "metadata": {},
   "outputs": [
    {
     "name": "stdout",
     "output_type": "stream",
     "text": [
      "         Event.Id Investigation.Type Accident.Number  Event.Date  \\\n",
      "0  20001218X45444           Accident      SEA87LA080  1948-10-24   \n",
      "1  20001218X45447           Accident      LAX94LA336  1962-07-19   \n",
      "2  20061025X01555           Accident      NYC07LA005  1974-08-30   \n",
      "3  20001218X45448           Accident      LAX96LA321  1977-06-19   \n",
      "4  20041105X01764           Accident      CHI79FA064  1979-08-02   \n",
      "\n",
      "          Location        Country Latitude Longitude Airport.Code  \\\n",
      "0  MOOSE CREEK, ID  United States      NaN       NaN          NaN   \n",
      "1   BRIDGEPORT, CA  United States      NaN       NaN          NaN   \n",
      "2    Saltville, VA  United States  36.9222  -81.8781          NaN   \n",
      "3       EUREKA, CA  United States      NaN       NaN          NaN   \n",
      "4       Canton, OH  United States      NaN       NaN          NaN   \n",
      "\n",
      "  Airport.Name  ... Purpose.of.flight Air.carrier Total.Fatal.Injuries  \\\n",
      "0          NaN  ...          Personal         NaN                  2.0   \n",
      "1          NaN  ...          Personal         NaN                  4.0   \n",
      "2          NaN  ...          Personal         NaN                  3.0   \n",
      "3          NaN  ...          Personal         NaN                  2.0   \n",
      "4          NaN  ...          Personal         NaN                  1.0   \n",
      "\n",
      "  Total.Serious.Injuries Total.Minor.Injuries Total.Uninjured  \\\n",
      "0                    0.0                  0.0             0.0   \n",
      "1                    0.0                  0.0             0.0   \n",
      "2                    NaN                  NaN             NaN   \n",
      "3                    0.0                  0.0             0.0   \n",
      "4                    2.0                  NaN             0.0   \n",
      "\n",
      "  Weather.Condition  Broad.phase.of.flight   Report.Status Publication.Date  \n",
      "0               UNK                 Cruise  Probable Cause              NaN  \n",
      "1               UNK                Unknown  Probable Cause       19-09-1996  \n",
      "2               IMC                 Cruise  Probable Cause       26-02-2007  \n",
      "3               IMC                 Cruise  Probable Cause       12-09-2000  \n",
      "4               VMC               Approach  Probable Cause       16-04-1980  \n",
      "\n",
      "[5 rows x 31 columns]\n"
     ]
    },
    {
     "name": "stderr",
     "output_type": "stream",
     "text": [
      "c:\\Users\\USER\\anaconda3\\envs\\learn-env\\lib\\site-packages\\IPython\\core\\interactiveshell.py:3145: DtypeWarning: Columns (6,7,28) have mixed types.Specify dtype option on import or set low_memory=False.\n",
      "  has_raised = await self.run_ast_nodes(code_ast.body, cell_name,\n"
     ]
    }
   ],
   "source": [
    "# Loading the dataset from the specified file path\n",
    "csv_path = ('data/Aviation_Data.csv')\n",
    "df =  pd.read_csv(csv_path)\n",
    "\n",
    "print (df.head())"
   ]
  },
  {
   "cell_type": "markdown",
   "metadata": {},
   "source": [
    "## 3. Statistical Summary of the Data\n",
    "\n",
    "We will then use the `describe()` method to generate a statistical summary of the dataset. This provides key statistics such as count, mean, standard deviation, min, and max values for each numeric column.\n"
   ]
  },
  {
   "cell_type": "code",
   "execution_count": 510,
   "metadata": {},
   "outputs": [
    {
     "name": "stdout",
     "output_type": "stream",
     "text": [
      "<bound method NDFrame.describe of              Event.Id Investigation.Type Accident.Number  Event.Date  \\\n",
      "0      20001218X45444           Accident      SEA87LA080  1948-10-24   \n",
      "1      20001218X45447           Accident      LAX94LA336  1962-07-19   \n",
      "2      20061025X01555           Accident      NYC07LA005  1974-08-30   \n",
      "3      20001218X45448           Accident      LAX96LA321  1977-06-19   \n",
      "4      20041105X01764           Accident      CHI79FA064  1979-08-02   \n",
      "...               ...                ...             ...         ...   \n",
      "90343  20221227106491           Accident      ERA23LA093  2022-12-26   \n",
      "90344  20221227106494           Accident      ERA23LA095  2022-12-26   \n",
      "90345  20221227106497           Accident      WPR23LA075  2022-12-26   \n",
      "90346  20221227106498           Accident      WPR23LA076  2022-12-26   \n",
      "90347  20221230106513           Accident      ERA23LA097  2022-12-29   \n",
      "\n",
      "              Location        Country Latitude Longitude Airport.Code  \\\n",
      "0      MOOSE CREEK, ID  United States      NaN       NaN          NaN   \n",
      "1       BRIDGEPORT, CA  United States      NaN       NaN          NaN   \n",
      "2        Saltville, VA  United States  36.9222  -81.8781          NaN   \n",
      "3           EUREKA, CA  United States      NaN       NaN          NaN   \n",
      "4           Canton, OH  United States      NaN       NaN          NaN   \n",
      "...                ...            ...      ...       ...          ...   \n",
      "90343    Annapolis, MD  United States      NaN       NaN          NaN   \n",
      "90344      Hampton, NH  United States      NaN       NaN          NaN   \n",
      "90345       Payson, AZ  United States  341525N  1112021W          PAN   \n",
      "90346       Morgan, UT  United States      NaN       NaN          NaN   \n",
      "90347       Athens, GA  United States      NaN       NaN          NaN   \n",
      "\n",
      "      Airport.Name  ... Purpose.of.flight         Air.carrier  \\\n",
      "0              NaN  ...          Personal                 NaN   \n",
      "1              NaN  ...          Personal                 NaN   \n",
      "2              NaN  ...          Personal                 NaN   \n",
      "3              NaN  ...          Personal                 NaN   \n",
      "4              NaN  ...          Personal                 NaN   \n",
      "...            ...  ...               ...                 ...   \n",
      "90343          NaN  ...          Personal                 NaN   \n",
      "90344          NaN  ...               NaN                 NaN   \n",
      "90345       PAYSON  ...          Personal                 NaN   \n",
      "90346          NaN  ...          Personal  MC CESSNA 210N LLC   \n",
      "90347          NaN  ...          Personal                 NaN   \n",
      "\n",
      "      Total.Fatal.Injuries Total.Serious.Injuries Total.Minor.Injuries  \\\n",
      "0                      2.0                    0.0                  0.0   \n",
      "1                      4.0                    0.0                  0.0   \n",
      "2                      3.0                    NaN                  NaN   \n",
      "3                      2.0                    0.0                  0.0   \n",
      "4                      1.0                    2.0                  NaN   \n",
      "...                    ...                    ...                  ...   \n",
      "90343                  0.0                    1.0                  0.0   \n",
      "90344                  0.0                    0.0                  0.0   \n",
      "90345                  0.0                    0.0                  0.0   \n",
      "90346                  0.0                    0.0                  0.0   \n",
      "90347                  0.0                    1.0                  0.0   \n",
      "\n",
      "      Total.Uninjured Weather.Condition  Broad.phase.of.flight  \\\n",
      "0                 0.0               UNK                 Cruise   \n",
      "1                 0.0               UNK                Unknown   \n",
      "2                 NaN               IMC                 Cruise   \n",
      "3                 0.0               IMC                 Cruise   \n",
      "4                 0.0               VMC               Approach   \n",
      "...               ...               ...                    ...   \n",
      "90343             0.0               NaN                    NaN   \n",
      "90344             0.0               NaN                    NaN   \n",
      "90345             1.0               VMC                    NaN   \n",
      "90346             0.0               NaN                    NaN   \n",
      "90347             1.0               NaN                    NaN   \n",
      "\n",
      "        Report.Status Publication.Date  \n",
      "0      Probable Cause              NaN  \n",
      "1      Probable Cause       19-09-1996  \n",
      "2      Probable Cause       26-02-2007  \n",
      "3      Probable Cause       12-09-2000  \n",
      "4      Probable Cause       16-04-1980  \n",
      "...               ...              ...  \n",
      "90343             NaN       29-12-2022  \n",
      "90344             NaN              NaN  \n",
      "90345             NaN       27-12-2022  \n",
      "90346             NaN              NaN  \n",
      "90347             NaN       30-12-2022  \n",
      "\n",
      "[90348 rows x 31 columns]>\n"
     ]
    }
   ],
   "source": [
    "# Displaying statistical summary of the dataset\n",
    "\n",
    "print(df.describe)"
   ]
  },
  {
   "cell_type": "markdown",
   "metadata": {},
   "source": [
    "## 4. Checking for Missing Values\n",
    "\n",
    "We check for missing values in each column of the dataset using the `isnull().sum()` method. This step helps us identify columns with missing data, which is crucial for cleaning the dataset.\n"
   ]
  },
  {
   "cell_type": "code",
   "execution_count": 511,
   "metadata": {},
   "outputs": [
    {
     "name": "stdout",
     "output_type": "stream",
     "text": [
      "Event.Id                   1459\n",
      "Investigation.Type            0\n",
      "Accident.Number            1459\n",
      "Event.Date                 1459\n",
      "Location                   1511\n",
      "Country                    1685\n",
      "Latitude                  55966\n",
      "Longitude                 55975\n",
      "Airport.Code              40099\n",
      "Airport.Name              37558\n",
      "Injury.Severity            2459\n",
      "Aircraft.damage            4653\n",
      "Aircraft.Category         58061\n",
      "Registration.Number        2776\n",
      "Make                       1522\n",
      "Model                      1551\n",
      "Amateur.Built              1561\n",
      "Number.of.Engines          7543\n",
      "Engine.Type                8536\n",
      "FAR.Description           58325\n",
      "Schedule                  77766\n",
      "Purpose.of.flight          7651\n",
      "Air.carrier               73700\n",
      "Total.Fatal.Injuries      12860\n",
      "Total.Serious.Injuries    13969\n",
      "Total.Minor.Injuries      13392\n",
      "Total.Uninjured            7371\n",
      "Weather.Condition          5951\n",
      "Broad.phase.of.flight     28624\n",
      "Report.Status              7840\n",
      "Publication.Date          16689\n",
      "dtype: int64\n"
     ]
    }
   ],
   "source": [
    "# Checking for missing values in each column of the dataset\n",
    "print(df.isnull().sum())"
   ]
  },
  {
   "cell_type": "markdown",
   "metadata": {},
   "source": [
    "## 5. Selecting Specific Columns\n",
    "\n",
    "I decided to select specific columns that are relevant for my analysis. This step helps to focus on the most important aspects of the dataset. The selected columns are:\n",
    "- `Event.Date`\n",
    "- `Location`\n",
    "- `Country`\n",
    "- `Injury.Severity`\n",
    "- `Aircraft.damage`\n",
    "- `Aircraft.Category`\n",
    "- `Make`\n",
    "- `Total.Fatal.Injuries`\n",
    "- `Total.Serious.Injuries`\n",
    "- `Total.Minor.Injuries`\n",
    "- `Total.Uninjured`\n",
    "- `Weather.Condition`\n",
    "- `Report.Status`\n",
    "\n",
    "After selecting the columns, we create a new DataFrame and display the first few rows to confirm the selection.\n"
   ]
  },
  {
   "cell_type": "code",
   "execution_count": 512,
   "metadata": {},
   "outputs": [],
   "source": [
    "# Selecting specific columns for analysis\n",
    "list_columns = ['Event.Date', 'Location', 'Country', 'Injury.Severity', 'Aircraft.damage', 'Aircraft.Category', 'Make', 'Total.Fatal.Injuries'\n",
    ", 'Total.Serious.Injuries', 'Total.Minor.Injuries', 'Total.Uninjured', 'Weather.Condition', 'Report.Status']"
   ]
  },
  {
   "cell_type": "markdown",
   "metadata": {},
   "source": [
    "## 6 a). Creating a DataFrame with Selected Columns\n",
    "\n",
    "We create a new DataFrame that contains only the selected columns from the original dataset. This helps to focus our analysis on the most relevant data.\n",
    "\n",
    "##   b). DataFrame Information\n",
    "\n",
    "Using the `info()` method, we display detailed information about the new DataFrame. This includes the number of non-null entries, data types of each column, and the memory usage. This step is crucial for understanding the structure and completeness of our data.\n"
   ]
  },
  {
   "cell_type": "code",
   "execution_count": 513,
   "metadata": {},
   "outputs": [],
   "source": [
    "# Creating a new DataFrame with the selected columns\n",
    "df = df[list_columns].copy()"
   ]
  },
  {
   "cell_type": "code",
   "execution_count": 514,
   "metadata": {},
   "outputs": [
    {
     "name": "stdout",
     "output_type": "stream",
     "text": [
      "<class 'pandas.core.frame.DataFrame'>\n",
      "RangeIndex: 90348 entries, 0 to 90347\n",
      "Data columns (total 13 columns):\n",
      " #   Column                  Non-Null Count  Dtype  \n",
      "---  ------                  --------------  -----  \n",
      " 0   Event.Date              88889 non-null  object \n",
      " 1   Location                88837 non-null  object \n",
      " 2   Country                 88663 non-null  object \n",
      " 3   Injury.Severity         87889 non-null  object \n",
      " 4   Aircraft.damage         85695 non-null  object \n",
      " 5   Aircraft.Category       32287 non-null  object \n",
      " 6   Make                    88826 non-null  object \n",
      " 7   Total.Fatal.Injuries    77488 non-null  float64\n",
      " 8   Total.Serious.Injuries  76379 non-null  float64\n",
      " 9   Total.Minor.Injuries    76956 non-null  float64\n",
      " 10  Total.Uninjured         82977 non-null  float64\n",
      " 11  Weather.Condition       84397 non-null  object \n",
      " 12  Report.Status           82508 non-null  object \n",
      "dtypes: float64(4), object(9)\n",
      "memory usage: 9.0+ MB\n"
     ]
    }
   ],
   "source": [
    "# Displaying information about the new DataFrame\n",
    "df.info()"
   ]
  },
  {
   "cell_type": "code",
   "execution_count": 515,
   "metadata": {},
   "outputs": [],
   "source": [
    "#Data cleaning : here we remove rows with possible duplicate rows\n",
    "df.drop_duplicates(inplace=True)"
   ]
  },
  {
   "cell_type": "markdown",
   "metadata": {},
   "source": [
    "## 7. Convert 'Event.Date' column to datetime format\n",
    "We convert the 'Event.Date' column to datetime format using `pd.to_datetime()`. This allows us to perform date-based operations and analysis on the aviation accidents dataset."
   ]
  },
  {
   "cell_type": "code",
   "execution_count": 516,
   "metadata": {},
   "outputs": [],
   "source": [
    "# Converting the 'Event.Date' column to datetime format\n",
    "\n",
    "df['Event.Date'] = pd.to_datetime(df['Event.Date'])"
   ]
  },
  {
   "cell_type": "code",
   "execution_count": 517,
   "metadata": {},
   "outputs": [
    {
     "data": {
      "text/plain": [
       "Event.Date                    1\n",
       "Location                     53\n",
       "Country                     226\n",
       "Injury.Severity             998\n",
       "Aircraft.damage            3181\n",
       "Aircraft.Category         56446\n",
       "Make                         64\n",
       "Total.Fatal.Injuries      11380\n",
       "Total.Serious.Injuries    12477\n",
       "Total.Minor.Injuries      11899\n",
       "Total.Uninjured            5896\n",
       "Weather.Condition          4487\n",
       "Report.Status              6375\n",
       "dtype: int64"
      ]
     },
     "execution_count": 517,
     "metadata": {},
     "output_type": "execute_result"
    }
   ],
   "source": [
    "# Checking for missing values in each column\n",
    "df.isna().sum()"
   ]
  },
  {
   "cell_type": "markdown",
   "metadata": {},
   "source": [
    "## 8. Drop rows with missing values in the 'Event.Date' column\n",
    "\n",
    "We drop rows that have missing values in the 'Event.Date' column to ensure that our dataset only includes aviation accidents where the date of the event is known.\n"
   ]
  },
  {
   "cell_type": "code",
   "execution_count": 518,
   "metadata": {},
   "outputs": [],
   "source": [
    "# Drop rows with missing values in the 'Event.Date' column\n",
    "df.dropna(subset=['Event.Date'], inplace=True)"
   ]
  },
  {
   "cell_type": "code",
   "execution_count": 519,
   "metadata": {},
   "outputs": [
    {
     "data": {
      "text/plain": [
       "0"
      ]
     },
     "execution_count": 519,
     "metadata": {},
     "output_type": "execute_result"
    }
   ],
   "source": [
    "# Check for missing values specifically in the 'Event.Date' column\n",
    "df['Event.Date'].isna().sum()"
   ]
  },
  {
   "cell_type": "markdown",
   "metadata": {},
   "source": [
    "## 9. Defining Columns to Delete\n",
    "\n",
    "We define a list `delete_columns` containing column names that we plan to delete from the DataFrame. These columns are:\n",
    "- `Location`\n",
    "- `Country`\n",
    "- `Injury.Severity`\n",
    "- `Make`\n",
    "\n",
    "They are identified for deletion based on the specific requirements of the analysis or to simplify the dataset.\n",
    "\n"
   ]
  },
  {
   "cell_type": "code",
   "execution_count": 520,
   "metadata": {},
   "outputs": [],
   "source": [
    "# Define a list of columns to delete from the dataframe\n",
    "delete_columns = ['Location', 'Country', 'Injury.Severity', 'Make']"
   ]
  },
  {
   "cell_type": "markdown",
   "metadata": {},
   "source": [
    "## 10. Dropping Rows with Missing Values in Critical Columns\n",
    "\n",
    "We drop rows that have missing values in the specified critical columns. This step is important to ensure that our analysis is not affected by incomplete data in these key columns.\n"
   ]
  },
  {
   "cell_type": "code",
   "execution_count": 521,
   "metadata": {},
   "outputs": [],
   "source": [
    "# Dropping rows where critical columns have missing values\n",
    "df.dropna(subset = delete_columns, inplace = True)"
   ]
  },
  {
   "cell_type": "code",
   "execution_count": 522,
   "metadata": {},
   "outputs": [
    {
     "data": {
      "text/plain": [
       "Event.Date                    0\n",
       "Location                      0\n",
       "Country                       0\n",
       "Injury.Severity               0\n",
       "Aircraft.damage            2645\n",
       "Aircraft.Category         56042\n",
       "Make                          0\n",
       "Total.Fatal.Injuries      11348\n",
       "Total.Serious.Injuries    12439\n",
       "Total.Minor.Injuries      11859\n",
       "Total.Uninjured            5865\n",
       "Weather.Condition          3543\n",
       "Report.Status              5448\n",
       "dtype: int64"
      ]
     },
     "execution_count": 522,
     "metadata": {},
     "output_type": "execute_result"
    }
   ],
   "source": [
    "# Checking for any remaining missing values in each column\n",
    "df.isna().sum()"
   ]
  },
  {
   "cell_type": "markdown",
   "metadata": {},
   "source": [
    "## 11. Calculating Mode for Injury Columns\n",
    "\n",
    "We calculate the mode (the most frequent value) for several injury-related columns:\n",
    "- `Total.Fatal.Injuries`\n",
    "- `Total.Serious.Injuries`\n",
    "- `Total.Minor.Injuries`\n",
    "- `Total.Uninjured`\n",
    "\n",
    "The mode helps us understand the most common number of injuries in each category.\n"
   ]
  },
  {
   "cell_type": "code",
   "execution_count": 523,
   "metadata": {},
   "outputs": [],
   "source": [
    "# Calculating the mode for 'Total.Fatal.Injuries' column\n",
    "mode_fatal = df['Total.Fatal.Injuries'].mode()\n",
    "\n",
    "# Calculating the mode for 'Total.Serious.Injuries' column\n",
    "mode_serious = df['Total.Serious.Injuries'].mode()\n",
    "\n",
    "# Calculating the mode for 'Total.Minor.Injuries' column\n",
    "mode_minor = df['Total.Minor.Injuries'].mode()\n",
    "\n",
    "# Calculating the mode for 'Total.Uninjured' column\n",
    "mode_uninjured = df['Total.Uninjured'].mode()"
   ]
  },
  {
   "cell_type": "markdown",
   "metadata": {},
   "source": [
    "## 12. Filling Missing Values with Mode\n",
    "\n",
    "We fill missing values in the injury-related columns with their respective modes. This approach ensures that the most common value in each column is used to replace missing data, which helps maintain the integrity of the dataset.\n",
    "- `Total.Fatal.Injuries`\n",
    "- `Total.Serious.Injuries`\n",
    "- `Total.Minor.Injuries`\n",
    "- `Total.Uninjured`\n"
   ]
  },
  {
   "cell_type": "code",
   "execution_count": 524,
   "metadata": {},
   "outputs": [],
   "source": [
    "# Filling missing values in 'Total.Fatal.Injuries' with the mode\n",
    "df['Total.Fatal.Injuries'].fillna(mode_fatal[0], inplace = True)\n",
    "\n",
    "# Filling missing values in 'Total.Serious.Injuries' with the mode\n",
    "df['Total.Serious.Injuries'].fillna(mode_serious[0], inplace = True)\n",
    "\n",
    "# Filling missing values in 'Total.Minor.Injuries' with the mode\n",
    "df['Total.Minor.Injuries'].fillna(mode_minor[0], inplace = True)\n",
    "\n",
    "# Filling missing values in 'Total.Uninjured' with the mode\n",
    "df['Total.Uninjured'].fillna(mode_uninjured[0], inplace = True)"
   ]
  },
  {
   "cell_type": "markdown",
   "metadata": {},
   "source": [
    "## 13. Verifying Missing Values Handling\n",
    "\n",
    "We use the `isna().sum()` method again to verify that all missing values in the dataset have been handled. This ensures that there are no remaining missing values in the critical columns.\n"
   ]
  },
  {
   "cell_type": "code",
   "execution_count": 525,
   "metadata": {},
   "outputs": [
    {
     "data": {
      "text/plain": [
       "Event.Date                    0\n",
       "Location                      0\n",
       "Country                       0\n",
       "Injury.Severity               0\n",
       "Aircraft.damage            2645\n",
       "Aircraft.Category         56042\n",
       "Make                          0\n",
       "Total.Fatal.Injuries          0\n",
       "Total.Serious.Injuries        0\n",
       "Total.Minor.Injuries          0\n",
       "Total.Uninjured               0\n",
       "Weather.Condition          3543\n",
       "Report.Status              5448\n",
       "dtype: int64"
      ]
     },
     "execution_count": 525,
     "metadata": {},
     "output_type": "execute_result"
    }
   ],
   "source": [
    "# Checking for any remaining missing values in each column\n",
    "df.isna().sum()"
   ]
  },
  {
   "cell_type": "markdown",
   "metadata": {},
   "source": [
    "## 14. Dropping Rows that are Missing 'Aircraft.damage' Values\n",
    "\n",
    "We drop rows that have missing values in the `Aircraft.damage` column. This step ensures that our dataset does not contain incomplete information regarding aircraft damage, which is crucial for analysis.\n"
   ]
  },
  {
   "cell_type": "code",
   "execution_count": 526,
   "metadata": {},
   "outputs": [],
   "source": [
    "# Dropping rows where 'Aircraft.damage' has missing values\n",
    "df.dropna(subset = ['Aircraft.damage'], inplace = True)"
   ]
  },
  {
   "cell_type": "code",
   "execution_count": 527,
   "metadata": {},
   "outputs": [
    {
     "data": {
      "text/plain": [
       "Event.Date                    0\n",
       "Location                      0\n",
       "Country                       0\n",
       "Injury.Severity               0\n",
       "Aircraft.damage               0\n",
       "Aircraft.Category         54423\n",
       "Make                          0\n",
       "Total.Fatal.Injuries          0\n",
       "Total.Serious.Injuries        0\n",
       "Total.Minor.Injuries          0\n",
       "Total.Uninjured               0\n",
       "Weather.Condition          2870\n",
       "Report.Status              4866\n",
       "dtype: int64"
      ]
     },
     "execution_count": 527,
     "metadata": {},
     "output_type": "execute_result"
    }
   ],
   "source": [
    "# Checking for any remaining missing values in each column\n",
    "df.isna().sum()"
   ]
  },
  {
   "cell_type": "markdown",
   "metadata": {},
   "source": [
    "## 15. Analyzing 'Weather.Condition' Column\n",
    "\n",
    "We use the `value_counts()` method to count the occurrences of each unique value in the `Weather.Condition` column. This helps us understand the distribution of different weather conditions in the dataset.\n"
   ]
  },
  {
   "cell_type": "code",
   "execution_count": 528,
   "metadata": {},
   "outputs": [
    {
     "data": {
      "text/plain": [
       "VMC    75184\n",
       "IMC     5742\n",
       "UNK      759\n",
       "Unk      194\n",
       "Name: Weather.Condition, dtype: int64"
      ]
     },
     "execution_count": 528,
     "metadata": {},
     "output_type": "execute_result"
    }
   ],
   "source": [
    "# Counting the occurrences of each unique value in 'Weather.Condition' column\n",
    "df['Weather.Condition'].value_counts()"
   ]
  },
  {
   "cell_type": "markdown",
   "metadata": {},
   "source": [
    "## 16. Filling Missing 'Weather.Condition' Values\n",
    "\n",
    "We calculate the mode (the most frequent value) for the `Weather.Condition` column and fill any missing values with this mode. This ensures consistency and completeness in the weather condition data.\n"
   ]
  },
  {
   "cell_type": "code",
   "execution_count": 529,
   "metadata": {},
   "outputs": [],
   "source": [
    "# Calculating the mode for 'Weather.Condition' column\n",
    "mode_weather = df['Weather.Condition'].mode()\n",
    "\n",
    "# Filling missing values in 'Weather.Condition' with the mode\n",
    "df['Weather.Condition'].fillna(mode_weather[0], inplace = True)"
   ]
  },
  {
   "cell_type": "code",
   "execution_count": 530,
   "metadata": {},
   "outputs": [
    {
     "data": {
      "text/plain": [
       "Event.Date                    0\n",
       "Location                      0\n",
       "Country                       0\n",
       "Injury.Severity               0\n",
       "Aircraft.damage               0\n",
       "Aircraft.Category         54423\n",
       "Make                          0\n",
       "Total.Fatal.Injuries          0\n",
       "Total.Serious.Injuries        0\n",
       "Total.Minor.Injuries          0\n",
       "Total.Uninjured               0\n",
       "Weather.Condition             0\n",
       "Report.Status              4866\n",
       "dtype: int64"
      ]
     },
     "execution_count": 530,
     "metadata": {},
     "output_type": "execute_result"
    }
   ],
   "source": [
    "# Checking for any remaining missing values in each column\n",
    "df.isna().sum()"
   ]
  },
  {
   "cell_type": "markdown",
   "metadata": {},
   "source": [
    "## 17. Analyzing 'Report.Status' Column\n",
    "\n",
    "We use the `value_counts()` method to count the occurrences of each unique value in the `Report.Status` column. This helps us understand the distribution of different report statuses in the dataset.\n"
   ]
  },
  {
   "cell_type": "code",
   "execution_count": 531,
   "metadata": {},
   "outputs": [
    {
     "data": {
      "text/plain": [
       "Probable Cause                                                                                                                                                                                                59918\n",
       "Foreign                                                                                                                                                                                                        1765\n",
       "Factual                                                                                                                                                                                                         141\n",
       "<br /><br />                                                                                                                                                                                                    121\n",
       "The pilot's failure to maintain directional control during the landing roll.                                                                                                                                     58\n",
       "                                                                                                                                                                                                              ...  \n",
       "A loss of engine power due to oil starvation as the result of a loose B-nut fitting on the engine oil cooler, resulting in a forced landing to a soft, snow-covered surface, and a subsequent nose over.\\r        1\n",
       "The flight instructors failure to adequately correct for a loss of directional control during a simulated single engine approach.                                                                                1\n",
       "The pilot's failure to maintain a stabilized glide path which resulted in the airplane touching down short of the runway.                                                                                         1\n",
       "The student pilot's failure to maintain pitch control during the touch down resulting in a bounced landing, subsequent hard landing and substantial damage to the firewall.                                       1\n",
       "The pilot's failure to maintain helicopter control while maneuvering during takeoff.\\r\\n\\r\\n\\r                                                                                                                    1\n",
       "Name: Report.Status, Length: 16539, dtype: int64"
      ]
     },
     "execution_count": 531,
     "metadata": {},
     "output_type": "execute_result"
    }
   ],
   "source": [
    "# Counting the occurrences of each unique value in 'Report.Status' column\n",
    "df['Report.Status'].value_counts()"
   ]
  },
  {
   "cell_type": "markdown",
   "metadata": {},
   "source": [
    "## 18. Filling Missing 'Report.Status' Values\n",
    "\n",
    "We calculate the mode (the most frequent value) for the `Report.Status` column and fill any missing values with this mode. This ensures consistency and completeness in the report status data.\n"
   ]
  },
  {
   "cell_type": "code",
   "execution_count": 532,
   "metadata": {},
   "outputs": [],
   "source": [
    "# Calculating the mode for 'Report.Status' column\n",
    "mode_reportstatus = df['Report.Status'].mode()\n",
    "\n",
    "# Filling missing values in 'Report.Status' with the mode\n",
    "df['Report.Status'].fillna(mode_reportstatus[0], inplace = True)"
   ]
  },
  {
   "cell_type": "code",
   "execution_count": 533,
   "metadata": {},
   "outputs": [
    {
     "data": {
      "text/plain": [
       "Event.Date                    0\n",
       "Location                      0\n",
       "Country                       0\n",
       "Injury.Severity               0\n",
       "Aircraft.damage               0\n",
       "Aircraft.Category         54423\n",
       "Make                          0\n",
       "Total.Fatal.Injuries          0\n",
       "Total.Serious.Injuries        0\n",
       "Total.Minor.Injuries          0\n",
       "Total.Uninjured               0\n",
       "Weather.Condition             0\n",
       "Report.Status                 0\n",
       "dtype: int64"
      ]
     },
     "execution_count": 533,
     "metadata": {},
     "output_type": "execute_result"
    }
   ],
   "source": [
    "# Checking for any remaining missing values in each column\n",
    "df.isna().sum()"
   ]
  },
  {
   "cell_type": "markdown",
   "metadata": {},
   "source": [
    "## 19. Filtering Rows by Aircraft Category\n",
    "\n",
    "We filter the DataFrame to include only rows where the aircraft category is 'Airplane'. This step focuses our analysis specifically on aviation accidents involving airplanes.\n"
   ]
  },
  {
   "cell_type": "code",
   "execution_count": 534,
   "metadata": {},
   "outputs": [],
   "source": [
    "# Filtering the DataFrame to include only rows where 'Aircraft.Category' is 'Airplane'\n",
    "df = df[df['Aircraft.Category']== 'Airplane'].copy()"
   ]
  },
  {
   "cell_type": "code",
   "execution_count": 535,
   "metadata": {},
   "outputs": [
    {
     "data": {
      "text/plain": [
       "Event.Date                0\n",
       "Location                  0\n",
       "Country                   0\n",
       "Injury.Severity           0\n",
       "Aircraft.damage           0\n",
       "Aircraft.Category         0\n",
       "Make                      0\n",
       "Total.Fatal.Injuries      0\n",
       "Total.Serious.Injuries    0\n",
       "Total.Minor.Injuries      0\n",
       "Total.Uninjured           0\n",
       "Weather.Condition         0\n",
       "Report.Status             0\n",
       "dtype: int64"
      ]
     },
     "execution_count": 535,
     "metadata": {},
     "output_type": "execute_result"
    }
   ],
   "source": [
    "# Checking for any remaining missing values in each column\n",
    "df.isna().sum()"
   ]
  },
  {
   "cell_type": "markdown",
   "metadata": {},
   "source": [
    "## 20. Analyzing 'Make' Column\n",
    "\n",
    "We use the `value_counts()` method to count the occurrences of each unique value in the `Make` column. This helps us understand the distribution of different aircraft makes involved in airplane accidents.\n"
   ]
  },
  {
   "cell_type": "code",
   "execution_count": 536,
   "metadata": {},
   "outputs": [
    {
     "data": {
      "text/plain": [
       "CESSNA                    4724\n",
       "Cessna                    3562\n",
       "PIPER                     2756\n",
       "Piper                     1891\n",
       "BEECH                      990\n",
       "                          ... \n",
       "CARPENTER                    1\n",
       "GARRATT MANSFIELD W          1\n",
       "PREISS VANS                  1\n",
       "WINGTIP TO WINGTIP LLC       1\n",
       "NORTH AMERICAN/SCHWAMM       1\n",
       "Name: Make, Length: 3840, dtype: int64"
      ]
     },
     "execution_count": 536,
     "metadata": {},
     "output_type": "execute_result"
    }
   ],
   "source": [
    "# Counting the occurrences of each unique value in 'Make' column\n",
    "df['Make'].value_counts()"
   ]
  },
  {
   "cell_type": "markdown",
   "metadata": {},
   "source": [
    "## 21. Converting 'Make' Column to Lowercase\n",
    "\n",
    "We convert all values in the `Make` column to lowercase using the `str.lower()` method. This standardizes the casing of values for consistency in further analysis.\n"
   ]
  },
  {
   "cell_type": "code",
   "execution_count": 537,
   "metadata": {},
   "outputs": [],
   "source": [
    "# Converting values in 'Make' column to lowercase\n",
    "df['Make'] = df['Make'].str.lower()"
   ]
  },
  {
   "cell_type": "markdown",
   "metadata": {},
   "source": [
    "## 22. Updated Analysis of 'Make' Column\n",
    "\n",
    "We use the `value_counts()` method again to count the occurrences of each unique value in the `Make` column, after converting all values to lowercase. This ensures consistency in the analysis by considering the standardized casing of values.\n"
   ]
  },
  {
   "cell_type": "code",
   "execution_count": 538,
   "metadata": {},
   "outputs": [
    {
     "data": {
      "text/plain": [
       "cessna                      8286\n",
       "piper                       4647\n",
       "beech                       1656\n",
       "boeing                       556\n",
       "mooney                       412\n",
       "                            ... \n",
       "stevens r p/mccright d w       1\n",
       "amd                            1\n",
       "fox al                         1\n",
       "eros                           1\n",
       "kenetic aviation               1\n",
       "Name: Make, Length: 3508, dtype: int64"
      ]
     },
     "execution_count": 538,
     "metadata": {},
     "output_type": "execute_result"
    }
   ],
   "source": [
    "# Counting the occurrences of each unique value in 'Make' column after converting to lowercase\n",
    "df['Make'].value_counts()"
   ]
  },
  {
   "cell_type": "markdown",
   "metadata": {},
   "source": [
    "## 23. Analyzing 'Weather.Condition' Column\n",
    "\n",
    "We use the `value_counts()` method to count the occurrences of each unique value in the `Weather.Condition` column. This helps us understand the distribution of different weather conditions in the dataset specifically for airplane accidents.\n"
   ]
  },
  {
   "cell_type": "code",
   "execution_count": 539,
   "metadata": {},
   "outputs": [
    {
     "data": {
      "text/plain": [
       "VMC    24283\n",
       "IMC     1332\n",
       "Unk      158\n",
       "UNK      132\n",
       "Name: Weather.Condition, dtype: int64"
      ]
     },
     "execution_count": 539,
     "metadata": {},
     "output_type": "execute_result"
    }
   ],
   "source": [
    "# Counting the occurrences of each unique value in 'Weather.Condition' column\n",
    "df['Weather.Condition'].value_counts()"
   ]
  },
  {
   "cell_type": "markdown",
   "metadata": {},
   "source": [
    "## 24. Converting 'Weather.Condition' Column to Uppercase\n",
    "\n",
    "We convert all values in the `Weather.Condition` column to uppercase using the `str.upper()` method. This standardizes the casing of values for consistency in further analysis and comparisons.\n"
   ]
  },
  {
   "cell_type": "code",
   "execution_count": 540,
   "metadata": {},
   "outputs": [],
   "source": [
    "# Converting values in 'Weather.Condition' column to uppercase\n",
    "df['Weather.Condition'] = df['Weather.Condition'].str.upper()"
   ]
  },
  {
   "cell_type": "markdown",
   "metadata": {},
   "source": [
    "## 25. Updated Analysis of 'Weather.Condition' Column\n",
    "\n",
    "We use the `value_counts()` method again to count the occurrences of each unique value in the `Weather.Condition` column, after converting all values to uppercase. This ensures consistency in the analysis by considering the standardized casing of values.\n"
   ]
  },
  {
   "cell_type": "code",
   "execution_count": 541,
   "metadata": {},
   "outputs": [
    {
     "data": {
      "text/plain": [
       "VMC    24283\n",
       "IMC     1332\n",
       "UNK      290\n",
       "Name: Weather.Condition, dtype: int64"
      ]
     },
     "execution_count": 541,
     "metadata": {},
     "output_type": "execute_result"
    }
   ],
   "source": [
    "# Counting the occurrences of each unique value in 'Weather.Condition' column after converting to uppercase\n",
    "df['Weather.Condition'].value_counts()"
   ]
  },
  {
   "cell_type": "markdown",
   "metadata": {},
   "source": [
    "## 26. Resetting DataFrame Index\n",
    "\n",
    "We reset the index of the DataFrame using the `reset_index()` method with `drop=True` parameter. This reindexes the DataFrame sequentially starting from 0, dropping the old index.\n"
   ]
  },
  {
   "cell_type": "code",
   "execution_count": 542,
   "metadata": {},
   "outputs": [],
   "source": [
    "# Resetting the index of the DataFrame after filtering\n",
    "df.reset_index(inplace = True, drop = True)"
   ]
  },
  {
   "cell_type": "markdown",
   "metadata": {},
   "source": [
    "## 27. Saving Cleaned DataFrame to CSV\n",
    "\n",
    "We save the cleaned DataFrame to a CSV file named `Cleaned_Aviation_Data.csv` located at `C:\\Docs\\Flatirons\\`. The `index=False` parameter ensures that the index of the DataFrame is not included in the saved file.\n"
   ]
  },
  {
   "cell_type": "code",
   "execution_count": 543,
   "metadata": {},
   "outputs": [],
   "source": [
    "# Saving the cleaned DataFrame to a CSV file\n",
    "df.to_csv('C:\\Docs\\Flatirons\\Cleaned_Aviation_Data.csv', index = False)"
   ]
  },
  {
   "cell_type": "markdown",
   "metadata": {},
   "source": [
    "## 28. Importing Data Visualization Libraries\n",
    "\n",
    "We import `matplotlib.pyplot` for creating static, animated, and interactive visualizations in Python, and `seaborn` for making statistical graphics in Python. These libraries will be used for visualizing insights from the cleaned aviation accidents dataset.\n"
   ]
  },
  {
   "cell_type": "code",
   "execution_count": 544,
   "metadata": {},
   "outputs": [],
   "source": [
    "import matplotlib.pyplot as plt\n",
    "import seaborn as sns"
   ]
  },
  {
   "cell_type": "markdown",
   "metadata": {},
   "source": [
    "## 29. Plotting Relevant Visualizations\n",
    "\n",
    "## Accident Trends Over Time\n",
    "\n",
    "We use a line plot to visualize the trends of aviation accidents over time based on the dataset. The x-axis represents the 'Event.Date' column, which has been converted to datetime format for accurate time series analysis. The y-axis shows the number of accidents, reflecting the index of the DataFrame.\n",
    "\n",
    "### Insights:\n",
    "- **Date**: The timeline spans from the earliest to the latest dates recorded in the dataset.\n",
    "- **Number of Accidents**: The y-axis quantifies the frequency of accidents over the specified period.\n",
    "- **Trend Analysis**: Observing the trend can provide insights into any patterns or fluctuations in accident occurrences over time.\n",
    "\n",
    "This visualization helps stakeholders to understand historical trends in aviation accidents, supporting informed decision-making and risk assessment strategies.\n"
   ]
  },
  {
   "cell_type": "code",
   "execution_count": 545,
   "metadata": {},
   "outputs": [
    {
     "data": {
      "image/png": "[encoded data removed]",
      "text/plain": [
       "<Figure size 864x432 with 1 Axes>"
      ]
     },
     "metadata": {
      "needs_background": "light"
     },
     "output_type": "display_data"
    }
   ],
   "source": [
    "# Plotting accident trends over time\n",
    "plt.figure(figsize=(12, 6))\n",
    "sns.lineplot(x='Event.Date', y=df.index, data=df)\n",
    "plt.title('Accident Trends Over Time')\n",
    "plt.xlabel('Date')\n",
    "plt.ylabel('Number of Accidents')\n",
    "plt.xticks(rotation=45)\n",
    "plt.grid(True)67\n",
    "plt.tight_layout()\n",
    "plt.show()"
   ]
  },
  {
   "cell_type": "markdown",
   "metadata": {},
   "source": [
    "## Distribution of Aircraft Damage\n",
    "\n",
    "We visualize the distribution of different types of aircraft damage encountered in the dataset using a count plot. Each bar represents a category of damage (minor, substantial, destroyed, etc.), and the height of the bar indicates the frequency of accidents associated with that type of damage.\n",
    "\n",
    "### Insights:\n",
    "- **Aircraft Damage Categories**: The x-axis displays categories such as minor, substantial, destroyed, etc., detailing the severity levels of damage.\n",
    "- **Frequency**: The y-axis represents the count of accidents categorized under each type of damage.\n",
    "- **Analysis**: This plot helps in understanding the prevalence of various damage types across aviation accidents recorded in the dataset.\n",
    "\n",
    "This visualization aids in assessing the severity and extent of damage suffered by aircraft involved in accidents, informing decisions related to risk mitigation and aircraft maintenance strategies.\n"
   ]
  },
  {
   "cell_type": "code",
   "execution_count": 546,
   "metadata": {},
   "outputs": [
    {
     "data": {
      "image/png": "[encoded data removed]",
      "text/plain": [
       "<Figure size 720x432 with 1 Axes>"
      ]
     },
     "metadata": {
      "needs_background": "light"
     },
     "output_type": "display_data"
    }
   ],
   "source": [
    "# Distribution of Aircraft Damage\n",
    "plt.figure(figsize=(10, 6))\n",
    "sns.countplot(x='Aircraft.damage', data=df, palette='Pastel1')\n",
    "plt.title('Distribution of Aircraft Damage')\n",
    "plt.xlabel('Aircraft Damage')\n",
    "plt.ylabel('Count')\n",
    "plt.xticks(rotation=45)\n",
    "plt.tight_layout()\n",
    "plt.show()"
   ]
  },
  {
   "cell_type": "code",
   "execution_count": 547,
   "metadata": {},
   "outputs": [
    {
     "data": {
      "text/plain": [
       "<Figure size 864x576 with 0 Axes>"
      ]
     },
     "metadata": {},
     "output_type": "display_data"
    },
    {
     "data": {
      "image/png": "[encoded data removed]",
      "text/plain": [
       "<Figure size 864x576 with 1 Axes>"
      ]
     },
     "metadata": {
      "needs_background": "light"
     },
     "output_type": "display_data"
    }
   ],
   "source": [
    "# Grouping by 'Make' and 'Aircraft.damage' and counting occurrences\n",
    "make_damage_counts = df.groupby(['Make', 'Aircraft.damage']).size().unstack()\n",
    "\n",
    "# Plotting bar graph\n",
    "plt.figure(figsize=(12, 8))\n",
    "make_damage_counts.plot(kind='bar', width=0.8, figsize=(12,8), colormap='viridis')\n",
    "plt.title('Aircraft Makes vs Aircraft Damage')\n",
    "plt.xlabel('Aircraft Make')\n",
    "plt.ylabel('Count')\n",
    "plt.xticks(rotation=45)\n",
    "plt.legend(title='Aircraft Damage', loc='upper right')\n",
    "plt.tight_layout()\n",
    "plt.show()\n"
   ]
  }
 ],
 "metadata": {
  "kernelspec": {
   "display_name": "Python 3",
   "language": "python",
   "name": "python3"
  },
  "language_info": {
   "codemirror_mode": {
    "name": "ipython",
    "version": 3
   },
   "file_extension": ".py",
   "mimetype": "text/x-python",
   "name": "python",
   "nbconvert_exporter": "python",
   "pygments_lexer": "ipython3",
   "version": "3.8.5"
  }
 },
 "nbformat": 4,
 "nbformat_minor": 2
}
