{
 "cells": [
  {
   "cell_type": "markdown",
   "metadata": {},
   "source": [
    "## Final Project Submission\n",
    "\n",
    "Please fill out:\n",
    "* Student name: \n",
    "* Student pace: self paced / part time / full time\n",
    "* Scheduled project review date/time: \n",
    "* Instructor name: \n",
    "* Blog post URL:\n"
   ]
  },
  {
   "cell_type": "code",
   "execution_count": 274,
   "metadata": {},
   "outputs": [],
   "source": [
    "# Your code here - remember to use markdown cells for comments as well!\n",
    "\n",
    "import pandas as pd\n",
    "import numpy as np"
   ]
  },
  {
   "cell_type": "code",
   "execution_count": 275,
   "metadata": {},
   "outputs": [
    {
     "name": "stdout",
     "output_type": "stream",
     "text": [
      "         Event.Id Investigation.Type Accident.Number  Event.Date  \\\n",
      "0  20001218X45444           Accident      SEA87LA080  1948-10-24   \n",
      "1  20001218X45447           Accident      LAX94LA336  1962-07-19   \n",
      "2  20061025X01555           Accident      NYC07LA005  1974-08-30   \n",
      "3  20001218X45448           Accident      LAX96LA321  1977-06-19   \n",
      "4  20041105X01764           Accident      CHI79FA064  1979-08-02   \n",
      "\n",
      "          Location        Country   Latitude  Longitude Airport.Code  \\\n",
      "0  MOOSE CREEK, ID  United States        NaN        NaN          NaN   \n",
      "1   BRIDGEPORT, CA  United States        NaN        NaN          NaN   \n",
      "2    Saltville, VA  United States  36.922223 -81.878056          NaN   \n",
      "3       EUREKA, CA  United States        NaN        NaN          NaN   \n",
      "4       Canton, OH  United States        NaN        NaN          NaN   \n",
      "\n",
      "  Airport.Name  ... Purpose.of.flight Air.carrier Total.Fatal.Injuries  \\\n",
      "0          NaN  ...          Personal         NaN                  2.0   \n",
      "1          NaN  ...          Personal         NaN                  4.0   \n",
      "2          NaN  ...          Personal         NaN                  3.0   \n",
      "3          NaN  ...          Personal         NaN                  2.0   \n",
      "4          NaN  ...          Personal         NaN                  1.0   \n",
      "\n",
      "  Total.Serious.Injuries Total.Minor.Injuries Total.Uninjured  \\\n",
      "0                    0.0                  0.0             0.0   \n",
      "1                    0.0                  0.0             0.0   \n",
      "2                    NaN                  NaN             NaN   \n",
      "3                    0.0                  0.0             0.0   \n",
      "4                    2.0                  NaN             0.0   \n",
      "\n",
      "  Weather.Condition  Broad.phase.of.flight   Report.Status Publication.Date  \n",
      "0               UNK                 Cruise  Probable Cause              NaN  \n",
      "1               UNK                Unknown  Probable Cause       19-09-1996  \n",
      "2               IMC                 Cruise  Probable Cause       26-02-2007  \n",
      "3               IMC                 Cruise  Probable Cause       12-09-2000  \n",
      "4               VMC               Approach  Probable Cause       16-04-1980  \n",
      "\n",
      "[5 rows x 31 columns]\n"
     ]
    },
    {
     "name": "stderr",
     "output_type": "stream",
     "text": [
      "C:\\Users\\USER\\AppData\\Local\\Temp\\ipykernel_18748\\1776509017.py:2: DtypeWarning: Columns (6,7,28) have mixed types. Specify dtype option on import or set low_memory=False.\n",
      "  df =  pd.read_csv(csv_path)\n"
     ]
    }
   ],
   "source": [
    "csv_path = ('data/Aviation_Data.csv')\n",
    "df =  pd.read_csv(csv_path)\n",
    "\n",
    "print (df.head())"
   ]
  },
  {
   "cell_type": "code",
   "execution_count": 276,
   "metadata": {},
   "outputs": [
    {
     "name": "stdout",
     "output_type": "stream",
     "text": [
      "<bound method NDFrame.describe of              Event.Id Investigation.Type Accident.Number  Event.Date  \\\n",
      "0      20001218X45444           Accident      SEA87LA080  1948-10-24   \n",
      "1      20001218X45447           Accident      LAX94LA336  1962-07-19   \n",
      "2      20061025X01555           Accident      NYC07LA005  1974-08-30   \n",
      "3      20001218X45448           Accident      LAX96LA321  1977-06-19   \n",
      "4      20041105X01764           Accident      CHI79FA064  1979-08-02   \n",
      "...               ...                ...             ...         ...   \n",
      "90343  20221227106491           Accident      ERA23LA093  2022-12-26   \n",
      "90344  20221227106494           Accident      ERA23LA095  2022-12-26   \n",
      "90345  20221227106497           Accident      WPR23LA075  2022-12-26   \n",
      "90346  20221227106498           Accident      WPR23LA076  2022-12-26   \n",
      "90347  20221230106513           Accident      ERA23LA097  2022-12-29   \n",
      "\n",
      "              Location        Country   Latitude  Longitude Airport.Code  \\\n",
      "0      MOOSE CREEK, ID  United States        NaN        NaN          NaN   \n",
      "1       BRIDGEPORT, CA  United States        NaN        NaN          NaN   \n",
      "2        Saltville, VA  United States  36.922223 -81.878056          NaN   \n",
      "3           EUREKA, CA  United States        NaN        NaN          NaN   \n",
      "4           Canton, OH  United States        NaN        NaN          NaN   \n",
      "...                ...            ...        ...        ...          ...   \n",
      "90343    Annapolis, MD  United States        NaN        NaN          NaN   \n",
      "90344      Hampton, NH  United States        NaN        NaN          NaN   \n",
      "90345       Payson, AZ  United States    341525N   1112021W          PAN   \n",
      "90346       Morgan, UT  United States        NaN        NaN          NaN   \n",
      "90347       Athens, GA  United States        NaN        NaN          NaN   \n",
      "\n",
      "      Airport.Name  ... Purpose.of.flight         Air.carrier  \\\n",
      "0              NaN  ...          Personal                 NaN   \n",
      "1              NaN  ...          Personal                 NaN   \n",
      "2              NaN  ...          Personal                 NaN   \n",
      "3              NaN  ...          Personal                 NaN   \n",
      "4              NaN  ...          Personal                 NaN   \n",
      "...            ...  ...               ...                 ...   \n",
      "90343          NaN  ...          Personal                 NaN   \n",
      "90344          NaN  ...               NaN                 NaN   \n",
      "90345       PAYSON  ...          Personal                 NaN   \n",
      "90346          NaN  ...          Personal  MC CESSNA 210N LLC   \n",
      "90347          NaN  ...          Personal                 NaN   \n",
      "\n",
      "      Total.Fatal.Injuries Total.Serious.Injuries Total.Minor.Injuries  \\\n",
      "0                      2.0                    0.0                  0.0   \n",
      "1                      4.0                    0.0                  0.0   \n",
      "2                      3.0                    NaN                  NaN   \n",
      "3                      2.0                    0.0                  0.0   \n",
      "4                      1.0                    2.0                  NaN   \n",
      "...                    ...                    ...                  ...   \n",
      "90343                  0.0                    1.0                  0.0   \n",
      "90344                  0.0                    0.0                  0.0   \n",
      "90345                  0.0                    0.0                  0.0   \n",
      "90346                  0.0                    0.0                  0.0   \n",
      "90347                  0.0                    1.0                  0.0   \n",
      "\n",
      "      Total.Uninjured Weather.Condition  Broad.phase.of.flight  \\\n",
      "0                 0.0               UNK                 Cruise   \n",
      "1                 0.0               UNK                Unknown   \n",
      "2                 NaN               IMC                 Cruise   \n",
      "3                 0.0               IMC                 Cruise   \n",
      "4                 0.0               VMC               Approach   \n",
      "...               ...               ...                    ...   \n",
      "90343             0.0               NaN                    NaN   \n",
      "90344             0.0               NaN                    NaN   \n",
      "90345             1.0               VMC                    NaN   \n",
      "90346             0.0               NaN                    NaN   \n",
      "90347             1.0               NaN                    NaN   \n",
      "\n",
      "        Report.Status Publication.Date  \n",
      "0      Probable Cause              NaN  \n",
      "1      Probable Cause       19-09-1996  \n",
      "2      Probable Cause       26-02-2007  \n",
      "3      Probable Cause       12-09-2000  \n",
      "4      Probable Cause       16-04-1980  \n",
      "...               ...              ...  \n",
      "90343             NaN       29-12-2022  \n",
      "90344             NaN              NaN  \n",
      "90345             NaN       27-12-2022  \n",
      "90346             NaN              NaN  \n",
      "90347             NaN       30-12-2022  \n",
      "\n",
      "[90348 rows x 31 columns]>\n"
     ]
    }
   ],
   "source": [
    "print(df.describe)"
   ]
  },
  {
   "cell_type": "code",
   "execution_count": 277,
   "metadata": {},
   "outputs": [
    {
     "name": "stdout",
     "output_type": "stream",
     "text": [
      "Event.Id                   1459\n",
      "Investigation.Type            0\n",
      "Accident.Number            1459\n",
      "Event.Date                 1459\n",
      "Location                   1511\n",
      "Country                    1685\n",
      "Latitude                  55966\n",
      "Longitude                 55975\n",
      "Airport.Code              40216\n",
      "Airport.Name              37644\n",
      "Injury.Severity            2459\n",
      "Aircraft.damage            4653\n",
      "Aircraft.Category         58061\n",
      "Registration.Number        2841\n",
      "Make                       1522\n",
      "Model                      1551\n",
      "Amateur.Built              1561\n",
      "Number.of.Engines          7543\n",
      "Engine.Type                8555\n",
      "FAR.Description           58325\n",
      "Schedule                  77766\n",
      "Purpose.of.flight          7651\n",
      "Air.carrier               73700\n",
      "Total.Fatal.Injuries      12860\n",
      "Total.Serious.Injuries    13969\n",
      "Total.Minor.Injuries      13392\n",
      "Total.Uninjured            7371\n",
      "Weather.Condition          5951\n",
      "Broad.phase.of.flight     28624\n",
      "Report.Status              7843\n",
      "Publication.Date          16689\n",
      "dtype: int64\n"
     ]
    }
   ],
   "source": [
    "print(df.isnull().sum())\n",
    "\n"
   ]
  },
  {
   "cell_type": "code",
   "execution_count": 278,
   "metadata": {},
   "outputs": [],
   "source": [
    "list_columns = ['Event.Date', 'Location', 'Country', 'Injury.Severity', 'Aircraft.damage', 'Aircraft.Category', 'Make', 'Total.Fatal.Injuries'\n",
    ", 'Total.Serious.Injuries', 'Total.Minor.Injuries', 'Total.Uninjured', 'Weather.Condition', 'Report.Status']"
   ]
  },
  {
   "cell_type": "code",
   "execution_count": 279,
   "metadata": {},
   "outputs": [],
   "source": [
    "df = df[list_columns].copy()"
   ]
  },
  {
   "cell_type": "code",
   "execution_count": 280,
   "metadata": {},
   "outputs": [
    {
     "name": "stdout",
     "output_type": "stream",
     "text": [
      "<class 'pandas.core.frame.DataFrame'>\n",
      "RangeIndex: 90348 entries, 0 to 90347\n",
      "Data columns (total 13 columns):\n",
      " #   Column                  Non-Null Count  Dtype  \n",
      "---  ------                  --------------  -----  \n",
      " 0   Event.Date              88889 non-null  object \n",
      " 1   Location                88837 non-null  object \n",
      " 2   Country                 88663 non-null  object \n",
      " 3   Injury.Severity         87889 non-null  object \n",
      " 4   Aircraft.damage         85695 non-null  object \n",
      " 5   Aircraft.Category       32287 non-null  object \n",
      " 6   Make                    88826 non-null  object \n",
      " 7   Total.Fatal.Injuries    77488 non-null  float64\n",
      " 8   Total.Serious.Injuries  76379 non-null  float64\n",
      " 9   Total.Minor.Injuries    76956 non-null  float64\n",
      " 10  Total.Uninjured         82977 non-null  float64\n",
      " 11  Weather.Condition       84397 non-null  object \n",
      " 12  Report.Status           82505 non-null  object \n",
      "dtypes: float64(4), object(9)\n",
      "memory usage: 9.0+ MB\n"
     ]
    }
   ],
   "source": [
    "df.info()"
   ]
  },
  {
   "cell_type": "code",
   "execution_count": 281,
   "metadata": {},
   "outputs": [],
   "source": [
    "#data cleaning : here we remove rows with possible duplicate rows\n",
    "df.drop_duplicates(inplace=True)"
   ]
  },
  {
   "cell_type": "code",
   "execution_count": 282,
   "metadata": {},
   "outputs": [],
   "source": [
    "df['Event.Date'] = pd.to_datetime(df['Event.Date'])"
   ]
  },
  {
   "cell_type": "code",
   "execution_count": 283,
   "metadata": {},
   "outputs": [
    {
     "data": {
      "text/plain": [
       "Event.Date                    1\n",
       "Location                     53\n",
       "Country                     226\n",
       "Injury.Severity             998\n",
       "Aircraft.damage            3181\n",
       "Aircraft.Category         56446\n",
       "Make                         64\n",
       "Total.Fatal.Injuries      11380\n",
       "Total.Serious.Injuries    12477\n",
       "Total.Minor.Injuries      11899\n",
       "Total.Uninjured            5896\n",
       "Weather.Condition          4487\n",
       "Report.Status              6378\n",
       "dtype: int64"
      ]
     },
     "execution_count": 283,
     "metadata": {},
     "output_type": "execute_result"
    }
   ],
   "source": [
    "df.isna().sum()"
   ]
  },
  {
   "cell_type": "code",
   "execution_count": 284,
   "metadata": {},
   "outputs": [],
   "source": [
    "df.dropna(subset='Event.Date', inplace = True)"
   ]
  },
  {
   "cell_type": "code",
   "execution_count": 285,
   "metadata": {},
   "outputs": [
    {
     "data": {
      "text/plain": [
       "0"
      ]
     },
     "execution_count": 285,
     "metadata": {},
     "output_type": "execute_result"
    }
   ],
   "source": [
    "df['Event.Date'].isna().sum()"
   ]
  },
  {
   "cell_type": "code",
   "execution_count": 286,
   "metadata": {},
   "outputs": [],
   "source": [
    "delete_columns = ['Location', 'Country', 'Injury.Severity', 'Make']"
   ]
  },
  {
   "cell_type": "code",
   "execution_count": 287,
   "metadata": {},
   "outputs": [],
   "source": [
    "df.dropna(subset = delete_columns, inplace = True)"
   ]
  },
  {
   "cell_type": "code",
   "execution_count": 288,
   "metadata": {},
   "outputs": [
    {
     "data": {
      "text/plain": [
       "Event.Date                    0\n",
       "Location                      0\n",
       "Country                       0\n",
       "Injury.Severity               0\n",
       "Aircraft.damage            2645\n",
       "Aircraft.Category         56042\n",
       "Make                          0\n",
       "Total.Fatal.Injuries      11348\n",
       "Total.Serious.Injuries    12439\n",
       "Total.Minor.Injuries      11859\n",
       "Total.Uninjured            5865\n",
       "Weather.Condition          3543\n",
       "Report.Status              5451\n",
       "dtype: int64"
      ]
     },
     "execution_count": 288,
     "metadata": {},
     "output_type": "execute_result"
    }
   ],
   "source": [
    "df.isna().sum()"
   ]
  },
  {
   "cell_type": "code",
   "execution_count": 289,
   "metadata": {},
   "outputs": [],
   "source": [
    "mode_fatal = df['Total.Fatal.Injuries'].mode()\n",
    "\n",
    "mode_serious = df['Total.Serious.Injuries'].mode()\n",
    "\n",
    "mode_minor = df['Total.Minor.Injuries'].mode()\n",
    "\n",
    "mode_uninjured = df['Total.Uninjured'].mode()"
   ]
  },
  {
   "cell_type": "code",
   "execution_count": 290,
   "metadata": {},
   "outputs": [],
   "source": [
    "df['Total.Fatal.Injuries'].fillna(mode_fatal[0], inplace = True)\n",
    "\n",
    "df['Total.Serious.Injuries'].fillna(mode_serious[0], inplace = True)\n",
    "\n",
    "df['Total.Minor.Injuries'].fillna(mode_minor[0], inplace = True)\n",
    "\n",
    "df['Total.Uninjured'].fillna(mode_uninjured[0], inplace = True)"
   ]
  },
  {
   "cell_type": "code",
   "execution_count": 291,
   "metadata": {},
   "outputs": [
    {
     "data": {
      "text/plain": [
       "Event.Date                    0\n",
       "Location                      0\n",
       "Country                       0\n",
       "Injury.Severity               0\n",
       "Aircraft.damage            2645\n",
       "Aircraft.Category         56042\n",
       "Make                          0\n",
       "Total.Fatal.Injuries          0\n",
       "Total.Serious.Injuries        0\n",
       "Total.Minor.Injuries          0\n",
       "Total.Uninjured               0\n",
       "Weather.Condition          3543\n",
       "Report.Status              5451\n",
       "dtype: int64"
      ]
     },
     "execution_count": 291,
     "metadata": {},
     "output_type": "execute_result"
    }
   ],
   "source": [
    "df.isna().sum()"
   ]
  },
  {
   "cell_type": "code",
   "execution_count": 292,
   "metadata": {},
   "outputs": [],
   "source": [
    "df.dropna(subset = 'Aircraft.damage', inplace = True)"
   ]
  },
  {
   "cell_type": "code",
   "execution_count": 293,
   "metadata": {},
   "outputs": [
    {
     "data": {
      "text/plain": [
       "Event.Date                    0\n",
       "Location                      0\n",
       "Country                       0\n",
       "Injury.Severity               0\n",
       "Aircraft.damage               0\n",
       "Aircraft.Category         54423\n",
       "Make                          0\n",
       "Total.Fatal.Injuries          0\n",
       "Total.Serious.Injuries        0\n",
       "Total.Minor.Injuries          0\n",
       "Total.Uninjured               0\n",
       "Weather.Condition          2870\n",
       "Report.Status              4869\n",
       "dtype: int64"
      ]
     },
     "execution_count": 293,
     "metadata": {},
     "output_type": "execute_result"
    }
   ],
   "source": [
    "df.isna().sum()"
   ]
  },
  {
   "cell_type": "code",
   "execution_count": 294,
   "metadata": {},
   "outputs": [
    {
     "data": {
      "text/plain": [
       "Weather.Condition\n",
       "VMC    75184\n",
       "IMC     5742\n",
       "UNK      759\n",
       "Unk      194\n",
       "Name: count, dtype: int64"
      ]
     },
     "execution_count": 294,
     "metadata": {},
     "output_type": "execute_result"
    }
   ],
   "source": [
    "df['Weather.Condition'].value_counts()"
   ]
  },
  {
   "cell_type": "code",
   "execution_count": 295,
   "metadata": {},
   "outputs": [],
   "source": [
    "mode_weather = df['Weather.Condition'].mode()\n",
    "\n",
    "df['Weather.Condition'].fillna(mode_weather[0], inplace = True)"
   ]
  },
  {
   "cell_type": "code",
   "execution_count": 296,
   "metadata": {},
   "outputs": [
    {
     "data": {
      "text/plain": [
       "Event.Date                    0\n",
       "Location                      0\n",
       "Country                       0\n",
       "Injury.Severity               0\n",
       "Aircraft.damage               0\n",
       "Aircraft.Category         54423\n",
       "Make                          0\n",
       "Total.Fatal.Injuries          0\n",
       "Total.Serious.Injuries        0\n",
       "Total.Minor.Injuries          0\n",
       "Total.Uninjured               0\n",
       "Weather.Condition             0\n",
       "Report.Status              4869\n",
       "dtype: int64"
      ]
     },
     "execution_count": 296,
     "metadata": {},
     "output_type": "execute_result"
    }
   ],
   "source": [
    "df.isna().sum()"
   ]
  },
  {
   "cell_type": "code",
   "execution_count": 297,
   "metadata": {},
   "outputs": [
    {
     "data": {
      "text/plain": [
       "Report.Status\n",
       "Probable Cause                                                                                                                                                                                                                                                                                                                             59918\n",
       "Foreign                                                                                                                                                                                                                                                                                                                                     1765\n",
       "Factual                                                                                                                                                                                                                                                                                                                                      141\n",
       "<br /><br />                                                                                                                                                                                                                                                                                                                                 121\n",
       "The pilot's failure to maintain directional control during the landing roll.                                                                                                                                                                                                                                                                  58\n",
       "                                                                                                                                                                                                                                                                                                                                           ...  \n",
       "\\r\\nThe pilot did not ensure that there was sufficient fuel aboard the airplane before initiating the flight, which resulted in temporary fuel starvation and an interruption in engine power during maneuvering.  Contributing to the accident was the pilots decision to continue with the ditching after engine power was restored.        1\n",
       "The pilot's inadequate preflight inspection of the airplane and the subsequent total loss of engine power as a result of debris and water contamination in the fuel system.                                                                                                                                                                    1\n",
       "The pilots inadvertent positioning of the fuel selector valve between the right tank and OFF position, which resulted in fuel starvation and a total loss of engine power. Contributing to the accident was the inadequate inspection of the fuel valve and failure to replace the worn fuel valve's position washer.                         1\n",
       "The crew's failure to use proper emergency procedures during an uncommanded right roll after takeoff, which led to a forced landing with a quartering tailwind. Contributing to the accident was a faulty right roll spoiler actuator, which allowed the right roll spoiler to deploy but not close completely.                                1\n",
       "The pilots loss of control due to a wind gust during landing.                                                                                                                                                                                                                                                                                 1\n",
       "Name: count, Length: 16538, dtype: int64"
      ]
     },
     "execution_count": 297,
     "metadata": {},
     "output_type": "execute_result"
    }
   ],
   "source": [
    "df['Report.Status'].value_counts()"
   ]
  },
  {
   "cell_type": "code",
   "execution_count": 298,
   "metadata": {},
   "outputs": [],
   "source": [
    "mode_reportstatus = df['Report.Status'].mode()\n",
    "\n",
    "df['Report.Status'].fillna(mode_reportstatus[0], inplace = True)"
   ]
  },
  {
   "cell_type": "code",
   "execution_count": 299,
   "metadata": {},
   "outputs": [
    {
     "data": {
      "text/plain": [
       "Event.Date                    0\n",
       "Location                      0\n",
       "Country                       0\n",
       "Injury.Severity               0\n",
       "Aircraft.damage               0\n",
       "Aircraft.Category         54423\n",
       "Make                          0\n",
       "Total.Fatal.Injuries          0\n",
       "Total.Serious.Injuries        0\n",
       "Total.Minor.Injuries          0\n",
       "Total.Uninjured               0\n",
       "Weather.Condition             0\n",
       "Report.Status                 0\n",
       "dtype: int64"
      ]
     },
     "execution_count": 299,
     "metadata": {},
     "output_type": "execute_result"
    }
   ],
   "source": [
    "df.isna().sum()"
   ]
  },
  {
   "cell_type": "code",
   "execution_count": 300,
   "metadata": {},
   "outputs": [],
   "source": [
    "df = df[df['Aircraft.Category']== 'Airplane'].copy()"
   ]
  },
  {
   "cell_type": "code",
   "execution_count": 301,
   "metadata": {},
   "outputs": [
    {
     "data": {
      "text/plain": [
       "Event.Date                0\n",
       "Location                  0\n",
       "Country                   0\n",
       "Injury.Severity           0\n",
       "Aircraft.damage           0\n",
       "Aircraft.Category         0\n",
       "Make                      0\n",
       "Total.Fatal.Injuries      0\n",
       "Total.Serious.Injuries    0\n",
       "Total.Minor.Injuries      0\n",
       "Total.Uninjured           0\n",
       "Weather.Condition         0\n",
       "Report.Status             0\n",
       "dtype: int64"
      ]
     },
     "execution_count": 301,
     "metadata": {},
     "output_type": "execute_result"
    }
   ],
   "source": [
    "df.isna().sum()"
   ]
  },
  {
   "cell_type": "code",
   "execution_count": 302,
   "metadata": {},
   "outputs": [
    {
     "data": {
      "text/plain": [
       "Make\n",
       "CESSNA            4724\n",
       "Cessna            3562\n",
       "PIPER             2756\n",
       "Piper             1891\n",
       "BEECH              990\n",
       "                  ... \n",
       "Chang                1\n",
       "Jurmu                1\n",
       "FRANKE HARRY C       1\n",
       "COMBS EARL W         1\n",
       "ORLICAN S R O        1\n",
       "Name: count, Length: 3840, dtype: int64"
      ]
     },
     "execution_count": 302,
     "metadata": {},
     "output_type": "execute_result"
    }
   ],
   "source": [
    "df['Make'].value_counts()"
   ]
  },
  {
   "cell_type": "code",
   "execution_count": 303,
   "metadata": {},
   "outputs": [],
   "source": [
    "df['Make'] = df['Make'].str.lower()"
   ]
  },
  {
   "cell_type": "code",
   "execution_count": 304,
   "metadata": {},
   "outputs": [
    {
     "data": {
      "text/plain": [
       "Make\n",
       "cessna             8286\n",
       "piper              4647\n",
       "beech              1656\n",
       "boeing              556\n",
       "mooney              412\n",
       "                   ... \n",
       "dayton                1\n",
       "glines                1\n",
       "rammel thomas w       1\n",
       "hemmer                1\n",
       "orlican s r o         1\n",
       "Name: count, Length: 3508, dtype: int64"
      ]
     },
     "execution_count": 304,
     "metadata": {},
     "output_type": "execute_result"
    }
   ],
   "source": [
    "df['Make'].value_counts()"
   ]
  },
  {
   "cell_type": "code",
   "execution_count": 305,
   "metadata": {},
   "outputs": [
    {
     "data": {
      "text/plain": [
       "Weather.Condition\n",
       "VMC    24283\n",
       "IMC     1332\n",
       "Unk      158\n",
       "UNK      132\n",
       "Name: count, dtype: int64"
      ]
     },
     "execution_count": 305,
     "metadata": {},
     "output_type": "execute_result"
    }
   ],
   "source": [
    "df['Weather.Condition'].value_counts()"
   ]
  },
  {
   "cell_type": "code",
   "execution_count": 306,
   "metadata": {},
   "outputs": [],
   "source": [
    "df['Weather.Condition'] = df['Weather.Condition'].str.upper()"
   ]
  },
  {
   "cell_type": "code",
   "execution_count": 307,
   "metadata": {},
   "outputs": [
    {
     "data": {
      "text/plain": [
       "Weather.Condition\n",
       "VMC    24283\n",
       "IMC     1332\n",
       "UNK      290\n",
       "Name: count, dtype: int64"
      ]
     },
     "execution_count": 307,
     "metadata": {},
     "output_type": "execute_result"
    }
   ],
   "source": [
    "df['Weather.Condition'].value_counts()"
   ]
  },
  {
   "cell_type": "code",
   "execution_count": 308,
   "metadata": {},
   "outputs": [],
   "source": [
    "df.reset_index(inplace = True, drop = True)"
   ]
  },
  {
   "cell_type": "code",
   "execution_count": 309,
   "metadata": {},
   "outputs": [],
   "source": [
    "df.to_csv('C:\\Docs\\Flatirons\\Cleaned_Aviation_Data.csv', index = False)"
   ]
  },
  {
   "cell_type": "code",
   "execution_count": 310,
   "metadata": {},
   "outputs": [],
   "source": [
    "import matplotlib.pyplot as plt\n",
    "import seaborn as sns"
   ]
  },
  {
   "cell_type": "code",
   "execution_count": 311,
   "metadata": {},
   "outputs": [
    {
     "data": {
      "image/png": "[encoded data removed]",
      "text/plain": [
       "<Figure size 1000x600 with 1 Axes>"
      ]
     },
     "metadata": {},
     "output_type": "display_data"
    }
   ],
   "source": [
    "# Accident trends over time\n",
    "plt.figure(figsize=(10, 6))\n",
    "accidents_per_year.plot(kind='line')\n",
    "plt.title('Accidents Per Year')\n",
    "plt.xlabel('Year')\n",
    "plt.ylabel('Number of Accidents')\n",
    "plt.grid(True)\n",
    "plt.show()"
   ]
  },
  {
   "cell_type": "code",
   "execution_count": 312,
   "metadata": {},
   "outputs": [
    {
     "data": {
      "image/png": "[encoded data removed]",
      "text/plain": [
       "<Figure size 1000x600 with 1 Axes>"
      ]
     },
     "metadata": {},
     "output_type": "display_data"
    }
   ],
   "source": [
    "# Types of aircraft involved in accidents\n",
    "plt.figure(figsize=(10, 6))\n",
    "aircraft_type.head(10).plot(kind='bar')\n",
    "plt.title('Top 10 Aircraft Types Involved in Accidents')\n",
    "plt.xlabel('Aircraft Type')\n",
    "plt.ylabel('Number of Accidents')\n",
    "plt.show()"
   ]
  },
  {
   "cell_type": "code",
   "execution_count": 313,
   "metadata": {},
   "outputs": [
    {
     "data": {
      "image/png": "[encoded data removed]",
      "text/plain": [
       "<Figure size 1000x600 with 1 Axes>"
      ]
     },
     "metadata": {},
     "output_type": "display_data"
    }
   ],
   "source": [
    "# Causes of accidents\n",
    "plt.figure(figsize=(10, 6))\n",
    "purpose_of_flight.head(10).plot(kind='bar')\n",
    "plt.title('Top 10 Causes of Accidents')\n",
    "plt.xlabel('Cause')\n",
    "plt.ylabel('Number of Accidents')\n",
    "plt.show()"
   ]
  }
 ],
 "metadata": {
  "kernelspec": {
   "display_name": "Python 3",
   "language": "python",
   "name": "python3"
  },
  "language_info": {
   "codemirror_mode": {
    "name": "ipython",
    "version": 3
   },
   "file_extension": ".py",
   "mimetype": "text/x-python",
   "name": "python",
   "nbconvert_exporter": "python",
   "pygments_lexer": "ipython3",
   "version": "3.11.7"
  }
 },
 "nbformat": 4,
 "nbformat_minor": 2
}
